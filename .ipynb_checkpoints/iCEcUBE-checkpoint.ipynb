{
 "cells": [
  {
   "cell_type": "code",
   "execution_count": 1,
   "metadata": {
    "scrolled": true
   },
   "outputs": [
    {
     "name": "stderr",
     "output_type": "stream",
     "text": [
      "/Users/mohammfa/anaconda3/lib/python3.6/site-packages/h5py/__init__.py:36: FutureWarning: Conversion of the second argument of issubdtype from `float` to `np.floating` is deprecated. In future, it will be treated as `np.float64 == np.dtype(float).type`.\n",
      "  from ._conv import register_converters as _register_converters\n"
     ]
    }
   ],
   "source": [
    "from __future__ import absolute_import, division, print_function\n",
    "\n",
    "import os\n",
    "import matplotlib.pyplot as plt\n",
    "import random \n",
    "import tensorflow as tf\n",
    "import numpy as np\n",
    "import math"
   ]
  },
  {
   "cell_type": "code",
   "execution_count": 2,
   "metadata": {},
   "outputs": [],
   "source": [
    "#find all values greater than a certain value\n",
    "def findGreater(mat,val):\n",
    "    arr = np.array([])\n",
    "    for i in range(mat.shape[0]): #xaxis\n",
    "        for j in range(mat.shape[1]): #yaxix\n",
    "            if(mat[i,j] > val):\n",
    "                arr = np.append(arr,mat[i,j])\n",
    "                \n",
    "    return arr"
   ]
  },
  {
   "cell_type": "code",
   "execution_count": 3,
   "metadata": {},
   "outputs": [],
   "source": [
    "\"\"\"Def Generate neutrino \n",
    "Random origin (x,y)\n",
    "Random direction (dx, dy) or (one angles)\n",
    "Random energy (0 to 1) or (10 to 300 nanoseconds)\n",
    "Random time\n",
    "(make code adjustable)\n",
    "We want to know how fast the neutrino is\"\"\"\n",
    "def generateNeutrino():\n",
    "    x = random.uniform(0,10)\n",
    "    y = random.uniform(0,10)\n",
    "    angle = random.vonmisesvariate(0, 0)\n",
    "    energy = random.random();\n",
    "    time = random.randint(10,300)\n",
    "\n",
    "    return x, y, angle, energy, time"
   ]
  },
  {
   "cell_type": "code",
   "execution_count": 4,
   "metadata": {},
   "outputs": [],
   "source": [
    "def generateSignal(x,y,angle,energy,time):\n",
    "    nodes = 10\n",
    "    x_arr = np.linspace(0,nodes,nodes + 1)\n",
    "    y_arr = np.linspace(0,nodes,nodes + 1)\n",
    "    #10 by 10 grid which is the VICE CUBE\n",
    "    \n",
    "    #using MeshGrid\n",
    "    mesh_x, mesh_y = np.meshgrid(x_arr, y_arr)\n",
    "\n",
    "    #find distance of each sensor to the origion using euclidean distance formula\n",
    "    x_sq = mesh_x - x\n",
    "    y_sq = mesh_y - y\n",
    "    x_sq = np.power(x_sq,2)\n",
    "    y_sq = np.power(y_sq,2)\n",
    "    distance = np.sqrt(x_sq + y_sq)\n",
    "    #distance = np.round(distance,1)\n",
    "    \n",
    "    #find charge\n",
    "    #charge formula: C = (maxDistance - distance_to_each_node)^2 / maxDistance\n",
    "    maxDistance = math.sqrt((nodes * nodes) + (nodes * nodes))\n",
    "    charge = np.power((maxDistance - distance),2) / pow(maxDistance,2)\n",
    "    #charge = np.round(charge,1);\n",
    "    \n",
    "    \n",
    "    #based on the angle and the origin create a line (data fit) that would simulate a neutrino path\n",
    "    return mesh_x, mesh_y, distance, charge"
   ]
  },
  {
   "cell_type": "code",
   "execution_count": 5,
   "metadata": {},
   "outputs": [],
   "source": [
    "def exampleRun():\n",
    "    x,y,angle,energy,time = generateNeutrino();\n",
    "    mesh_x, mesh_y, distance, charge = generateSignal(x,y,angle,energy,time)\n",
    "    #print(\"x\\n\", mesh_x)\n",
    "    #print(\"y\\n\", mesh_y)\n",
    "\n",
    "    plt.plot(mesh_x,mesh_y, marker='.', color='k', linestyle='none')\n",
    "    \n",
    "    \n",
    "    CS = plt.contourf(mesh_x, mesh_y,charge, 15, cmap=plt.cm.rainbow,\n",
    "                  vmax=charge.max(), vmin=0)\n",
    "    plt.colorbar()  \n",
    "    plt.show()\n",
    "\n",
    "    print(\"x y angle energy time\")\n",
    "    print(x,y,angle,energy,time)\n",
    "    \n",
    "    #print(\"distance\\n\", distance)\n",
    "    print(\"charge\\n\", charge)"
   ]
  },
  {
   "cell_type": "code",
   "execution_count": 6,
   "metadata": {
    "scrolled": false
   },
   "outputs": [],
   "source": [
    "#decompose signal function\n",
    "\"\"\"\" function to decompose the signal to create a training vector and a training label\n",
    "def decomposeSignal():\n",
    "    \"\"\"\n",
    "#plan is to use have a vector of which sensors detected the neutrino and then have a vector for distance, charge\n",
    "#then use that as the training data\n",
    "\n",
    "def createTrainingVector(dataSize):\n",
    "    trainVec = np.zeros(dataSize,dtype = np.ndarray)\n",
    "    trainLabel_x = np.zeros(dataSize)\n",
    "    trainLabel_y = np.zeros(dataSize)\n",
    "    \n",
    "    for i in range(dataSize):\n",
    "        x_o,y_o,angle,energy,time = generateNeutrino();\n",
    "        mesh_x, mesh_y, distance, charge = generateSignal(x_o,y_o,angle,energy,time)\n",
    "\n",
    "        #output = decomposeSignal(charge,val)\n",
    "        trainVec[i] = charge\n",
    "        trainLabel_x[i] = x_o \n",
    "        trainLabel_y[i] = y_o\n",
    "        \n",
    "    return trainVec, trainLabel_x, trainLabel_y\n"
   ]
  },
  {
   "cell_type": "code",
   "execution_count": 7,
   "metadata": {},
   "outputs": [],
   "source": [
    "def inputFunction():\n",
    "    dataSize = 10\n",
    "    trainVec, trainLabel_x, trainLabel_y = createTrainingVector(dataSize)    \n",
    "    features = {'charge' : trainVec}\n",
    "    #trainLabel is the output. which currently is the origin\n",
    "    labels = {'x' : trainLabel_x, 'y' : trainLabel_y}\n",
    "    \n",
    "    return features, labels"
   ]
  },
  {
   "cell_type": "code",
   "execution_count": 15,
   "metadata": {},
   "outputs": [],
   "source": [
    "def trainInputFn(features, labels, batch_size):\n",
    "    \"\"\"An input function for training\"\"\"\n",
    "    # Convert the inputs to a Dataset.\n",
    "    dataset = tf.data.Dataset.from_tensor_slices((dict(features), dict(labels)))\n",
    "\n",
    "    # Shuffle, repeat, and batch the examples.\n",
    "    return dataset.shuffle(1000).repeat().batch(batch_size)\n"
   ]
  },
  {
   "cell_type": "code",
   "execution_count": 16,
   "metadata": {},
   "outputs": [
    {
     "ename": "TypeError",
     "evalue": "Expected binary or unicode string, got array([[0.01109762, 0.02415288, 0.04094418, 0.060302  , 0.08087891,\n        0.10117418, 0.11959845, 0.13458981, 0.14477918, 0.14917975,\n        0.14735023],\n       [0.02318853, 0.04214636, 0.06521287, 0.09111987, 0.1183442 ,\n        0.14511101, 0.16944987, 0.18933208, 0.20290306, 0.20878111,\n        0.20633601],\n       [0.03830816, 0.06341086, 0.09316662, 0.12624568, 0.16097166,\n        0.1952816 , 0.2267451 , 0.25270276, 0.27058029, 0.27836875,\n        0.2751255 ],\n       [0.05526815, 0.08661502, 0.12334856, 0.16414406, 0.20723631,\n        0.25030632, 0.29041027, 0.3240561 , 0.34758321, 0.35793545,\n        0.35361661],\n       [0.07274833, 0.11021991, 0.15399304, 0.20284721, 0.25505273,\n        0.30815638, 0.35874044, 0.4022898 , 0.43350075, 0.44746777,\n        0.44162216],\n       [0.08934335, 0.13251772, 0.18303745, 0.23990621, 0.30161698,\n        0.36584049, 0.42894457, 0.48539471, 0.52751328, 0.54693775,\n        0.53875927],\n       [0.10364695, 0.15172708, 0.20821301, 0.27243639, 0.34332034,\n        0.41904495, 0.49638478, 0.56943996, 0.62774837, 0.65627582,\n        0.64411036],\n       [0.11437485, 0.16615707, 0.22725322, 0.2973505 , 0.37591749,\n        0.46198137, 0.5535854 , 0.64631402, 0.72904284, 0.77524827,\n        0.75485971],\n       [0.12051284, 0.17442866, 0.23822658, 0.31185017, 0.39520035,\n        0.488086  , 0.59008623, 0.70006794, 0.81374629, 0.90230244,\n        0.85802438],\n       [0.12145909, 0.17570505, 0.23992405, 0.31410311, 0.39821929,\n        0.49222794, 0.59602923, 0.70934534, 0.83101656, 0.94646918,\n        0.88269379],\n       [0.11711934, 0.16985393, 0.23215191, 0.30380985, 0.38447712,\n        0.47349708, 0.56949712, 0.66914952, 0.76274048, 0.81962587,\n        0.79385722]])",
     "output_type": "error",
     "traceback": [
      "\u001b[0;31m---------------------------------------------------------------------------\u001b[0m",
      "\u001b[0;31mTypeError\u001b[0m                                 Traceback (most recent call last)",
      "\u001b[0;32m<ipython-input-16-126784eaa646>\u001b[0m in \u001b[0;36m<module>\u001b[0;34m()\u001b[0m\n\u001b[1;32m      2\u001b[0m     \u001b[0mdataSize\u001b[0m \u001b[0;34m=\u001b[0m \u001b[0;36m10\u001b[0m\u001b[0;34m\u001b[0m\u001b[0m\n\u001b[1;32m      3\u001b[0m     \u001b[0mfeatures\u001b[0m\u001b[0;34m,\u001b[0m \u001b[0mlabels\u001b[0m \u001b[0;34m=\u001b[0m \u001b[0minputFunction\u001b[0m\u001b[0;34m(\u001b[0m\u001b[0;34m)\u001b[0m\u001b[0;34m\u001b[0m\u001b[0m\n\u001b[0;32m----> 4\u001b[0;31m     \u001b[0mdataSet\u001b[0m \u001b[0;34m=\u001b[0m \u001b[0mtrainInputFn\u001b[0m\u001b[0;34m(\u001b[0m\u001b[0mfeatures\u001b[0m\u001b[0;34m,\u001b[0m\u001b[0mlabels\u001b[0m\u001b[0;34m,\u001b[0m\u001b[0;36m10\u001b[0m\u001b[0;34m)\u001b[0m\u001b[0;34m\u001b[0m\u001b[0m\n\u001b[0m",
      "\u001b[0;32m<ipython-input-15-fb9f9db6059c>\u001b[0m in \u001b[0;36mtrainInputFn\u001b[0;34m(features, labels, batch_size)\u001b[0m\n\u001b[1;32m      2\u001b[0m     \u001b[0;34m\"\"\"An input function for training\"\"\"\u001b[0m\u001b[0;34m\u001b[0m\u001b[0m\n\u001b[1;32m      3\u001b[0m     \u001b[0;31m# Convert the inputs to a Dataset.\u001b[0m\u001b[0;34m\u001b[0m\u001b[0;34m\u001b[0m\u001b[0m\n\u001b[0;32m----> 4\u001b[0;31m     \u001b[0mdataset\u001b[0m \u001b[0;34m=\u001b[0m \u001b[0mtf\u001b[0m\u001b[0;34m.\u001b[0m\u001b[0mdata\u001b[0m\u001b[0;34m.\u001b[0m\u001b[0mDataset\u001b[0m\u001b[0;34m.\u001b[0m\u001b[0mfrom_tensor_slices\u001b[0m\u001b[0;34m(\u001b[0m\u001b[0;34m(\u001b[0m\u001b[0mdict\u001b[0m\u001b[0;34m(\u001b[0m\u001b[0mfeatures\u001b[0m\u001b[0;34m)\u001b[0m\u001b[0;34m,\u001b[0m \u001b[0mdict\u001b[0m\u001b[0;34m(\u001b[0m\u001b[0mlabels\u001b[0m\u001b[0;34m)\u001b[0m\u001b[0;34m)\u001b[0m\u001b[0;34m)\u001b[0m\u001b[0;34m\u001b[0m\u001b[0m\n\u001b[0m\u001b[1;32m      5\u001b[0m \u001b[0;34m\u001b[0m\u001b[0m\n\u001b[1;32m      6\u001b[0m     \u001b[0;31m# Shuffle, repeat, and batch the examples.\u001b[0m\u001b[0;34m\u001b[0m\u001b[0;34m\u001b[0m\u001b[0m\n",
      "\u001b[0;32m~/anaconda3/lib/python3.6/site-packages/tensorflow/python/data/ops/dataset_ops.py\u001b[0m in \u001b[0;36mfrom_tensor_slices\u001b[0;34m(tensors)\u001b[0m\n\u001b[1;32m    233\u001b[0m       \u001b[0mDataset\u001b[0m\u001b[0;34m:\u001b[0m \u001b[0mA\u001b[0m\u001b[0;31m \u001b[0m\u001b[0;31m`\u001b[0m\u001b[0mDataset\u001b[0m\u001b[0;31m`\u001b[0m\u001b[0;34m.\u001b[0m\u001b[0;34m\u001b[0m\u001b[0m\n\u001b[1;32m    234\u001b[0m     \"\"\"\n\u001b[0;32m--> 235\u001b[0;31m     \u001b[0;32mreturn\u001b[0m \u001b[0mTensorSliceDataset\u001b[0m\u001b[0;34m(\u001b[0m\u001b[0mtensors\u001b[0m\u001b[0;34m)\u001b[0m\u001b[0;34m\u001b[0m\u001b[0m\n\u001b[0m\u001b[1;32m    236\u001b[0m \u001b[0;34m\u001b[0m\u001b[0m\n\u001b[1;32m    237\u001b[0m   \u001b[0;34m@\u001b[0m\u001b[0mstaticmethod\u001b[0m\u001b[0;34m\u001b[0m\u001b[0m\n",
      "\u001b[0;32m~/anaconda3/lib/python3.6/site-packages/tensorflow/python/data/ops/dataset_ops.py\u001b[0m in \u001b[0;36m__init__\u001b[0;34m(self, tensors)\u001b[0m\n\u001b[1;32m   1028\u001b[0m           if sparse_tensor_lib.is_sparse(t) else ops.convert_to_tensor(\n\u001b[1;32m   1029\u001b[0m               t, name=\"component_%d\" % i)\n\u001b[0;32m-> 1030\u001b[0;31m           \u001b[0;32mfor\u001b[0m \u001b[0mi\u001b[0m\u001b[0;34m,\u001b[0m \u001b[0mt\u001b[0m \u001b[0;32min\u001b[0m \u001b[0menumerate\u001b[0m\u001b[0;34m(\u001b[0m\u001b[0mnest\u001b[0m\u001b[0;34m.\u001b[0m\u001b[0mflatten\u001b[0m\u001b[0;34m(\u001b[0m\u001b[0mtensors\u001b[0m\u001b[0;34m)\u001b[0m\u001b[0;34m)\u001b[0m\u001b[0;34m\u001b[0m\u001b[0m\n\u001b[0m\u001b[1;32m   1031\u001b[0m       ])\n\u001b[1;32m   1032\u001b[0m       \u001b[0mflat_tensors\u001b[0m \u001b[0;34m=\u001b[0m \u001b[0mnest\u001b[0m\u001b[0;34m.\u001b[0m\u001b[0mflatten\u001b[0m\u001b[0;34m(\u001b[0m\u001b[0mtensors\u001b[0m\u001b[0;34m)\u001b[0m\u001b[0;34m\u001b[0m\u001b[0m\n",
      "\u001b[0;32m~/anaconda3/lib/python3.6/site-packages/tensorflow/python/data/ops/dataset_ops.py\u001b[0m in \u001b[0;36m<listcomp>\u001b[0;34m(.0)\u001b[0m\n\u001b[1;32m   1028\u001b[0m           if sparse_tensor_lib.is_sparse(t) else ops.convert_to_tensor(\n\u001b[1;32m   1029\u001b[0m               t, name=\"component_%d\" % i)\n\u001b[0;32m-> 1030\u001b[0;31m           \u001b[0;32mfor\u001b[0m \u001b[0mi\u001b[0m\u001b[0;34m,\u001b[0m \u001b[0mt\u001b[0m \u001b[0;32min\u001b[0m \u001b[0menumerate\u001b[0m\u001b[0;34m(\u001b[0m\u001b[0mnest\u001b[0m\u001b[0;34m.\u001b[0m\u001b[0mflatten\u001b[0m\u001b[0;34m(\u001b[0m\u001b[0mtensors\u001b[0m\u001b[0;34m)\u001b[0m\u001b[0;34m)\u001b[0m\u001b[0;34m\u001b[0m\u001b[0m\n\u001b[0m\u001b[1;32m   1031\u001b[0m       ])\n\u001b[1;32m   1032\u001b[0m       \u001b[0mflat_tensors\u001b[0m \u001b[0;34m=\u001b[0m \u001b[0mnest\u001b[0m\u001b[0;34m.\u001b[0m\u001b[0mflatten\u001b[0m\u001b[0;34m(\u001b[0m\u001b[0mtensors\u001b[0m\u001b[0;34m)\u001b[0m\u001b[0;34m\u001b[0m\u001b[0m\n",
      "\u001b[0;32m~/anaconda3/lib/python3.6/site-packages/tensorflow/python/framework/ops.py\u001b[0m in \u001b[0;36mconvert_to_tensor\u001b[0;34m(value, dtype, name, preferred_dtype)\u001b[0m\n\u001b[1;32m   1012\u001b[0m       \u001b[0mname\u001b[0m\u001b[0;34m=\u001b[0m\u001b[0mname\u001b[0m\u001b[0;34m,\u001b[0m\u001b[0;34m\u001b[0m\u001b[0m\n\u001b[1;32m   1013\u001b[0m       \u001b[0mpreferred_dtype\u001b[0m\u001b[0;34m=\u001b[0m\u001b[0mpreferred_dtype\u001b[0m\u001b[0;34m,\u001b[0m\u001b[0;34m\u001b[0m\u001b[0m\n\u001b[0;32m-> 1014\u001b[0;31m       as_ref=False)\n\u001b[0m\u001b[1;32m   1015\u001b[0m \u001b[0;34m\u001b[0m\u001b[0m\n\u001b[1;32m   1016\u001b[0m \u001b[0;34m\u001b[0m\u001b[0m\n",
      "\u001b[0;32m~/anaconda3/lib/python3.6/site-packages/tensorflow/python/framework/ops.py\u001b[0m in \u001b[0;36minternal_convert_to_tensor\u001b[0;34m(value, dtype, name, as_ref, preferred_dtype, ctx)\u001b[0m\n\u001b[1;32m   1102\u001b[0m \u001b[0;34m\u001b[0m\u001b[0m\n\u001b[1;32m   1103\u001b[0m     \u001b[0;32mif\u001b[0m \u001b[0mret\u001b[0m \u001b[0;32mis\u001b[0m \u001b[0;32mNone\u001b[0m\u001b[0;34m:\u001b[0m\u001b[0;34m\u001b[0m\u001b[0m\n\u001b[0;32m-> 1104\u001b[0;31m       \u001b[0mret\u001b[0m \u001b[0;34m=\u001b[0m \u001b[0mconversion_func\u001b[0m\u001b[0;34m(\u001b[0m\u001b[0mvalue\u001b[0m\u001b[0;34m,\u001b[0m \u001b[0mdtype\u001b[0m\u001b[0;34m=\u001b[0m\u001b[0mdtype\u001b[0m\u001b[0;34m,\u001b[0m \u001b[0mname\u001b[0m\u001b[0;34m=\u001b[0m\u001b[0mname\u001b[0m\u001b[0;34m,\u001b[0m \u001b[0mas_ref\u001b[0m\u001b[0;34m=\u001b[0m\u001b[0mas_ref\u001b[0m\u001b[0;34m)\u001b[0m\u001b[0;34m\u001b[0m\u001b[0m\n\u001b[0m\u001b[1;32m   1105\u001b[0m \u001b[0;34m\u001b[0m\u001b[0m\n\u001b[1;32m   1106\u001b[0m     \u001b[0;32mif\u001b[0m \u001b[0mret\u001b[0m \u001b[0;32mis\u001b[0m \u001b[0mNotImplemented\u001b[0m\u001b[0;34m:\u001b[0m\u001b[0;34m\u001b[0m\u001b[0m\n",
      "\u001b[0;32m~/anaconda3/lib/python3.6/site-packages/tensorflow/python/framework/constant_op.py\u001b[0m in \u001b[0;36m_constant_tensor_conversion_function\u001b[0;34m(v, dtype, name, as_ref)\u001b[0m\n\u001b[1;32m    233\u001b[0m                                          as_ref=False):\n\u001b[1;32m    234\u001b[0m   \u001b[0m_\u001b[0m \u001b[0;34m=\u001b[0m \u001b[0mas_ref\u001b[0m\u001b[0;34m\u001b[0m\u001b[0m\n\u001b[0;32m--> 235\u001b[0;31m   \u001b[0;32mreturn\u001b[0m \u001b[0mconstant\u001b[0m\u001b[0;34m(\u001b[0m\u001b[0mv\u001b[0m\u001b[0;34m,\u001b[0m \u001b[0mdtype\u001b[0m\u001b[0;34m=\u001b[0m\u001b[0mdtype\u001b[0m\u001b[0;34m,\u001b[0m \u001b[0mname\u001b[0m\u001b[0;34m=\u001b[0m\u001b[0mname\u001b[0m\u001b[0;34m)\u001b[0m\u001b[0;34m\u001b[0m\u001b[0m\n\u001b[0m\u001b[1;32m    236\u001b[0m \u001b[0;34m\u001b[0m\u001b[0m\n\u001b[1;32m    237\u001b[0m \u001b[0;34m\u001b[0m\u001b[0m\n",
      "\u001b[0;32m~/anaconda3/lib/python3.6/site-packages/tensorflow/python/framework/constant_op.py\u001b[0m in \u001b[0;36mconstant\u001b[0;34m(value, dtype, shape, name, verify_shape)\u001b[0m\n\u001b[1;32m    212\u001b[0m   tensor_value.tensor.CopyFrom(\n\u001b[1;32m    213\u001b[0m       tensor_util.make_tensor_proto(\n\u001b[0;32m--> 214\u001b[0;31m           value, dtype=dtype, shape=shape, verify_shape=verify_shape))\n\u001b[0m\u001b[1;32m    215\u001b[0m   \u001b[0mdtype_value\u001b[0m \u001b[0;34m=\u001b[0m \u001b[0mattr_value_pb2\u001b[0m\u001b[0;34m.\u001b[0m\u001b[0mAttrValue\u001b[0m\u001b[0;34m(\u001b[0m\u001b[0mtype\u001b[0m\u001b[0;34m=\u001b[0m\u001b[0mtensor_value\u001b[0m\u001b[0;34m.\u001b[0m\u001b[0mtensor\u001b[0m\u001b[0;34m.\u001b[0m\u001b[0mdtype\u001b[0m\u001b[0;34m)\u001b[0m\u001b[0;34m\u001b[0m\u001b[0m\n\u001b[1;32m    216\u001b[0m   const_tensor = g.create_op(\n",
      "\u001b[0;32m~/anaconda3/lib/python3.6/site-packages/tensorflow/python/framework/tensor_util.py\u001b[0m in \u001b[0;36mmake_tensor_proto\u001b[0;34m(values, dtype, shape, verify_shape)\u001b[0m\n\u001b[1;32m    530\u001b[0m     raise TypeError(\n\u001b[1;32m    531\u001b[0m         \"Element type not supported in TensorProto: %s\" % numpy_dtype.name)\n\u001b[0;32m--> 532\u001b[0;31m   \u001b[0mappend_fn\u001b[0m\u001b[0;34m(\u001b[0m\u001b[0mtensor_proto\u001b[0m\u001b[0;34m,\u001b[0m \u001b[0mproto_values\u001b[0m\u001b[0;34m)\u001b[0m\u001b[0;34m\u001b[0m\u001b[0m\n\u001b[0m\u001b[1;32m    533\u001b[0m \u001b[0;34m\u001b[0m\u001b[0m\n\u001b[1;32m    534\u001b[0m   \u001b[0;32mreturn\u001b[0m \u001b[0mtensor_proto\u001b[0m\u001b[0;34m\u001b[0m\u001b[0m\n",
      "\u001b[0;32mtensorflow/python/framework/fast_tensor_util.pyx\u001b[0m in \u001b[0;36mtensorflow.python.framework.fast_tensor_util.AppendObjectArrayToTensorProto\u001b[0;34m()\u001b[0m\n",
      "\u001b[0;32m~/anaconda3/lib/python3.6/site-packages/tensorflow/python/util/compat.py\u001b[0m in \u001b[0;36mas_bytes\u001b[0;34m(bytes_or_text, encoding)\u001b[0m\n\u001b[1;32m     65\u001b[0m   \u001b[0;32melse\u001b[0m\u001b[0;34m:\u001b[0m\u001b[0;34m\u001b[0m\u001b[0m\n\u001b[1;32m     66\u001b[0m     raise TypeError('Expected binary or unicode string, got %r' %\n\u001b[0;32m---> 67\u001b[0;31m                     (bytes_or_text,))\n\u001b[0m\u001b[1;32m     68\u001b[0m \u001b[0;34m\u001b[0m\u001b[0m\n\u001b[1;32m     69\u001b[0m \u001b[0;34m\u001b[0m\u001b[0m\n",
      "\u001b[0;31mTypeError\u001b[0m: Expected binary or unicode string, got array([[0.01109762, 0.02415288, 0.04094418, 0.060302  , 0.08087891,\n        0.10117418, 0.11959845, 0.13458981, 0.14477918, 0.14917975,\n        0.14735023],\n       [0.02318853, 0.04214636, 0.06521287, 0.09111987, 0.1183442 ,\n        0.14511101, 0.16944987, 0.18933208, 0.20290306, 0.20878111,\n        0.20633601],\n       [0.03830816, 0.06341086, 0.09316662, 0.12624568, 0.16097166,\n        0.1952816 , 0.2267451 , 0.25270276, 0.27058029, 0.27836875,\n        0.2751255 ],\n       [0.05526815, 0.08661502, 0.12334856, 0.16414406, 0.20723631,\n        0.25030632, 0.29041027, 0.3240561 , 0.34758321, 0.35793545,\n        0.35361661],\n       [0.07274833, 0.11021991, 0.15399304, 0.20284721, 0.25505273,\n        0.30815638, 0.35874044, 0.4022898 , 0.43350075, 0.44746777,\n        0.44162216],\n       [0.08934335, 0.13251772, 0.18303745, 0.23990621, 0.30161698,\n        0.36584049, 0.42894457, 0.48539471, 0.52751328, 0.54693775,\n        0.53875927],\n       [0.10364695, 0.15172708, 0.20821301, 0.27243639, 0.34332034,\n        0.41904495, 0.49638478, 0.56943996, 0.62774837, 0.65627582,\n        0.64411036],\n       [0.11437485, 0.16615707, 0.22725322, 0.2973505 , 0.37591749,\n        0.46198137, 0.5535854 , 0.64631402, 0.72904284, 0.77524827,\n        0.75485971],\n       [0.12051284, 0.17442866, 0.23822658, 0.31185017, 0.39520035,\n        0.488086  , 0.59008623, 0.70006794, 0.81374629, 0.90230244,\n        0.85802438],\n       [0.12145909, 0.17570505, 0.23992405, 0.31410311, 0.39821929,\n        0.49222794, 0.59602923, 0.70934534, 0.83101656, 0.94646918,\n        0.88269379],\n       [0.11711934, 0.16985393, 0.23215191, 0.30380985, 0.38447712,\n        0.47349708, 0.56949712, 0.66914952, 0.76274048, 0.81962587,\n        0.79385722]])"
     ]
    }
   ],
   "source": [
    "if __name__== \"__main__\":\n",
    "    dataSize = 10\n",
    "    features, labels = inputFunction()    \n",
    "    dataSet = trainInputFn(features,labels,10)"
   ]
  },
  {
   "cell_type": "code",
   "execution_count": null,
   "metadata": {},
   "outputs": [],
   "source": []
  },
  {
   "cell_type": "code",
   "execution_count": null,
   "metadata": {},
   "outputs": [],
   "source": []
  }
 ],
 "metadata": {
  "kernelspec": {
   "display_name": "Python 3",
   "language": "python",
   "name": "python3"
  },
  "language_info": {
   "codemirror_mode": {
    "name": "ipython",
    "version": 3
   },
   "file_extension": ".py",
   "mimetype": "text/x-python",
   "name": "python",
   "nbconvert_exporter": "python",
   "pygments_lexer": "ipython3",
   "version": "3.6.5"
  }
 },
 "nbformat": 4,
 "nbformat_minor": 2
}
