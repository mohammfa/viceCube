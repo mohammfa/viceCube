{
 "cells": [
  {
   "cell_type": "code",
   "execution_count": 28,
   "metadata": {
    "scrolled": true
   },
   "outputs": [],
   "source": [
    "from __future__ import absolute_import, division, print_function\n",
    "\n",
    "import os\n",
    "import matplotlib.pyplot as plt\n",
    "import random \n",
    "import tensorflow as tf\n",
    "import numpy as np\n",
    "import math"
   ]
  },
  {
   "cell_type": "code",
   "execution_count": 29,
   "metadata": {},
   "outputs": [],
   "source": [
    "#find all values greater than a certain value\n",
    "def findGreater(mat,val):\n",
    "    arr = np.array([])\n",
    "    for i in range(mat.shape[0]): #xaxis\n",
    "        for j in range(mat.shape[1]): #yaxix\n",
    "            if(mat[i,j] > val):\n",
    "                arr = np.append(arr,mat[i,j])\n",
    "                \n",
    "    return arr"
   ]
  },
  {
   "cell_type": "code",
   "execution_count": 30,
   "metadata": {},
   "outputs": [],
   "source": [
    "\"\"\"Def Generate neutrino \n",
    "Random origin (x,y)\n",
    "Random direction (dx, dy) or (one angles)\n",
    "Random energy (0 to 1) or (10 to 300 nanoseconds)\n",
    "Random time\n",
    "(make code adjustable)\n",
    "We want to know how fast the neutrino is\"\"\"\n",
    "def generateNeutrino():\n",
    "    x = random.uniform(0,10)\n",
    "    y = random.uniform(0,10)\n",
    "    angle = random.vonmisesvariate(0, 0)\n",
    "    energy = random.random();\n",
    "    time = random.randint(10,300)\n",
    "\n",
    "    return x, y, angle, energy, time"
   ]
  },
  {
   "cell_type": "code",
   "execution_count": 56,
   "metadata": {},
   "outputs": [],
   "source": [
    "def generateSignal(x,y,angle,energy,time):\n",
    "    nodes = 10\n",
    "    x_arr = np.linspace(0,nodes,nodes + 1)\n",
    "    y_arr = np.linspace(0,nodes,nodes + 1)\n",
    "    #10 by 10 grid which is the VICE CUBE\n",
    "    \n",
    "    #using MeshGrid\n",
    "    mesh_x, mesh_y = np.meshgrid(x_arr, y_arr)\n",
    "\n",
    "    #find distance of each sensor to the origion using euclidean distance formula\n",
    "    x_sq = mesh_x - x\n",
    "    y_sq = mesh_y - y\n",
    "    x_sq = np.power(x_sq,2)\n",
    "    y_sq = np.power(y_sq,2)\n",
    "    distance = np.sqrt(x_sq + y_sq)\n",
    "    #distance = np.round(distance,1)\n",
    "    \n",
    "    #find charge\n",
    "    #charge formula: C = (maxDistance - distance_to_each_node)^2 / maxDistance\n",
    "    maxDistance = math.sqrt((nodes * nodes) + (nodes * nodes))\n",
    "    charge = np.power((maxDistance - distance),2) / pow(maxDistance,2)\n",
    "    #charge = np.round(charge,1);\n",
    "    \n",
    "    \n",
    "    #based on the angle and the origin create a line (data fit) that would simulate a neutrino path\n",
    "    return charge"
   ]
  },
  {
   "cell_type": "code",
   "execution_count": 73,
   "metadata": {
    "scrolled": false
   },
   "outputs": [],
   "source": [
    "#decompose signal function\n",
    "\"\"\"\" function to decompose the signal to create a training vector and a training label\n",
    "def decomposeSignal():\n",
    "    \"\"\"\n",
    "#plan is to use have a vector of which sensors detected the neutrino and then have a vector for distance, charge\n",
    "#then use that as the training data\n",
    "\n",
    "def decomposeSignal(charge,val):\n",
    "    x_i, y_i = np.where(charge > val)\n",
    "    c_i = findGreater(charge,val)\n",
    "    \n",
    "    output = np.array([x_i,y_i,c_i])\n",
    "    output = np.transpose(output)\n",
    "    print(output)\n",
    "    print(type(x_i), type(y_i), type(c_i))\n",
    "    return output\n",
    "\n",
    "def trainingVector():\n",
    "    trainVec = np.array([])\n",
    "    trainLabel_x = np.array([])\n",
    "    trainLabel_y = np.array([])\n",
    "\n",
    "    for i in range(10):\n",
    "        x_o,y_o,angle,energy,time = generateNeutrino();\n",
    "        charge = generateSignal(x,y,angle,energy,time)\n",
    "        output = decomposeSignal(charge,0.75)\n",
    "        \n",
    "        trainVec = np.append(trainVec,output)\n",
    "        trainLabel_x = np.append(trainLabel_x, x_o)\n",
    "        trainLabel_y = np.append(trainLabel_y, y_o)\n",
    "        \n",
    "    print(trainVec)\n",
    "    "
   ]
  },
  {
   "cell_type": "code",
   "execution_count": 74,
   "metadata": {},
   "outputs": [
    {
     "name": "stdout",
     "output_type": "stream",
     "text": [
      "x\n",
      " [[ 0.  1.  2.  3.  4.  5.  6.  7.  8.  9. 10.]\n",
      " [ 0.  1.  2.  3.  4.  5.  6.  7.  8.  9. 10.]\n",
      " [ 0.  1.  2.  3.  4.  5.  6.  7.  8.  9. 10.]\n",
      " [ 0.  1.  2.  3.  4.  5.  6.  7.  8.  9. 10.]\n",
      " [ 0.  1.  2.  3.  4.  5.  6.  7.  8.  9. 10.]\n",
      " [ 0.  1.  2.  3.  4.  5.  6.  7.  8.  9. 10.]\n",
      " [ 0.  1.  2.  3.  4.  5.  6.  7.  8.  9. 10.]\n",
      " [ 0.  1.  2.  3.  4.  5.  6.  7.  8.  9. 10.]\n",
      " [ 0.  1.  2.  3.  4.  5.  6.  7.  8.  9. 10.]\n",
      " [ 0.  1.  2.  3.  4.  5.  6.  7.  8.  9. 10.]\n",
      " [ 0.  1.  2.  3.  4.  5.  6.  7.  8.  9. 10.]]\n",
      "y\n",
      " [[ 0.  0.  0.  0.  0.  0.  0.  0.  0.  0.  0.]\n",
      " [ 1.  1.  1.  1.  1.  1.  1.  1.  1.  1.  1.]\n",
      " [ 2.  2.  2.  2.  2.  2.  2.  2.  2.  2.  2.]\n",
      " [ 3.  3.  3.  3.  3.  3.  3.  3.  3.  3.  3.]\n",
      " [ 4.  4.  4.  4.  4.  4.  4.  4.  4.  4.  4.]\n",
      " [ 5.  5.  5.  5.  5.  5.  5.  5.  5.  5.  5.]\n",
      " [ 6.  6.  6.  6.  6.  6.  6.  6.  6.  6.  6.]\n",
      " [ 7.  7.  7.  7.  7.  7.  7.  7.  7.  7.  7.]\n",
      " [ 8.  8.  8.  8.  8.  8.  8.  8.  8.  8.  8.]\n",
      " [ 9.  9.  9.  9.  9.  9.  9.  9.  9.  9.  9.]\n",
      " [10. 10. 10. 10. 10. 10. 10. 10. 10. 10. 10.]]\n"
     ]
    },
    {
     "data": {
      "image/png": "[encoded data removed]",
      "text/plain": [
       "<Figure size 432x288 with 2 Axes>"
      ]
     },
     "metadata": {},
     "output_type": "display_data"
    },
    {
     "name": "stdout",
     "output_type": "stream",
     "text": [
      "x y angle energy time\n",
      "9.685081821458818 1.5174781744581445 3.176086965563027 0.20472943098931085 67\n",
      "distance\n",
      " [[ 9.80324181  8.81665391  7.83346811  6.85514836  5.88412231  4.92470625\n",
      "   3.98529397  3.0842186   2.26765093  1.66495559  1.54981078]\n",
      " [ 9.69889651  8.70048446  7.70248442  6.70508036  5.70858467  4.71357352\n",
      "   3.72123792  2.73449228  1.7627491   0.85855737  0.60576986]\n",
      " [ 9.69709427  8.69847536  7.70021493  6.70247315  5.70552212  4.70986401\n",
      "   3.71653809  2.72809305  1.75280577  0.83795251  0.57619508]\n",
      " [ 9.79789165  8.81070469  7.82677159  6.84749516  5.87520436  4.91404748\n",
      "   3.97211518  3.06717058  2.24440899  1.63315892  1.51560035]\n",
      " [ 9.99818606  9.03291541  8.07610037  7.13114532  6.20347241  5.30216053\n",
      "   4.44328062  3.6568537   3.00040253  2.57531585  2.50241645]\n",
      " [10.29217024  9.35727549  8.43732427  7.53778994  6.66694185  5.83763222\n",
      "   5.07028464  4.39745638  3.86878004  3.54926688  3.49673158]\n",
      " [10.67210438  9.77362001  8.89682441  8.04880866  7.23969317  6.48405688\n",
      "   5.80282948  5.22519534  4.78878927  4.53457154  4.49357045]\n",
      " [11.12918934 10.2707688   9.44026102  8.64571365  7.89798714  7.21165981\n",
      "   6.60589688  6.10472849  5.73563827  5.52515906  5.49155889]\n",
      " [11.65435108 10.83760746 10.05403261  9.31200345  8.62225287  7.99831738\n",
      "   7.45673637  7.01660556  6.69795416  6.5186215   6.49016661]\n",
      " [12.23882931 11.463803   10.72607176 10.03386525  9.39724897  8.82825716\n",
      "   8.34074103  7.94970422  7.66991745  7.5138186   7.4891459 ]\n",
      " [12.87454801 12.14017392 11.44611983 10.80016183 10.21143143  9.69036471\n",
      "   9.24840551  8.89735022  8.64827597  8.51014181  8.48836557]]\n",
      "charge\n",
      " [[0.09413    0.14180378 0.19899643 0.26550092 0.34097392 0.42480502\n",
      "  0.51580716 0.61138764 0.70501693 0.77840011 0.79283322]\n",
      " [0.09871187 0.14805784 0.20734554 0.27654896 0.35562391 0.44448892\n",
      "  0.54297554 0.65067163 0.76624605 0.88226726 0.91616599]\n",
      " [0.09879196 0.14816719 0.20749171 0.27674289 0.35588224 0.44483874\n",
      "  0.54346542 0.65140184 0.76747747 0.88500644 0.92017371]\n",
      " [0.09436228 0.14212078 0.19941911 0.2660589  0.34171076 0.42578805\n",
      "  0.51714658 0.61327425 0.7077795  0.78237249 0.79714697]\n",
      " [0.08586159 0.13052066 0.18398392 0.24576993 0.31511187 0.3907258\n",
      "  0.47033894 0.54970568 0.62069108 0.6689566  0.67741531]\n",
      " [0.07411117 0.11447443 0.16272436 0.21808691 0.27939261 0.34482388\n",
      "  0.4114924  0.47479387 0.52770917 0.56104434 0.56662314]\n",
      " [0.06020558 0.09541964 0.13756645 0.18564317 0.23821856 0.29323085\n",
      "  0.34772013 0.39755912 0.43742544 0.46152644 0.46547405]\n",
      " [0.04538923 0.07493741 0.11053812 0.15105327 0.19494695 0.24015747\n",
      "  0.28397447 0.32299957 0.35334599 0.37126143 0.37416239]\n",
      " [0.03094536 0.05459953 0.08356293 0.11665088 0.15234553 0.18873251\n",
      "  0.22347282 0.25386589 0.27707919 0.29058984 0.29276315]\n",
      " [0.01811287 0.03586733 0.05834746 0.08438943 0.11256975 0.14118652\n",
      "  0.1682809  0.19173103 0.20944804 0.21967293 0.22131136]\n",
      " [0.00803389 0.02003925 0.03634251 0.05584394 0.07725218 0.09909132\n",
      "  0.11974297 0.13753887 0.15091247 0.15859677 0.15982558]]\n",
      "[[ 1.          9.          0.88226726]\n",
      " [ 1.         10.          0.91616599]\n",
      " [ 2.          9.          0.88500644]\n",
      " [ 2.         10.          0.92017371]]\n",
      "<class 'numpy.ndarray'> <class 'numpy.ndarray'> <class 'numpy.ndarray'>\n"
     ]
    }
   ],
   "source": [
    "if __name__== \"__main__\":\n",
    "    x,y,angle,energy,time = generateNeutrino();\n",
    "    mesh_x, mesh_y, distance, charge = generateSignal(x,y,angle,energy,time)\n",
    "    print(\"x\\n\", mesh_x)\n",
    "    print(\"y\\n\", mesh_y)\n",
    "\n",
    "    plt.plot(mesh_x,mesh_y, marker='.', color='k', linestyle='none')\n",
    "    \n",
    "    \n",
    "    CS = plt.contourf(mesh_x, mesh_y,charge, 15, cmap=plt.cm.rainbow,\n",
    "                  vmax=charge.max(), vmin=0)\n",
    "    plt.colorbar()  \n",
    "    plt.show()\n",
    "\n",
    "    print(\"x y angle energy time\")\n",
    "    print(x,y,angle,energy,time)\n",
    "    \n",
    "    print(\"distance\\n\", distance)\n",
    "    print(\"charge\\n\", charge)\n",
    "    \n",
    "    decomposeSignal(charge,0.8)\n",
    "    #trainingVector()"
   ]
  },
  {
   "cell_type": "code",
   "execution_count": null,
   "metadata": {},
   "outputs": [],
   "source": []
  },
  {
   "cell_type": "code",
   "execution_count": null,
   "metadata": {},
   "outputs": [],
   "source": []
  }
 ],
 "metadata": {
  "kernelspec": {
   "display_name": "Python 3",
   "language": "python",
   "name": "python3"
  },
  "language_info": {
   "codemirror_mode": {
    "name": "ipython",
    "version": 3
   },
   "file_extension": ".py",
   "mimetype": "text/x-python",
   "name": "python",
   "nbconvert_exporter": "python",
   "pygments_lexer": "ipython3",
   "version": "3.6.5"
  }
 },
 "nbformat": 4,
 "nbformat_minor": 2
}
