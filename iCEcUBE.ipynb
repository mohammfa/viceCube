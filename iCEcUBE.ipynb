{
 "cells": [
  {
   "cell_type": "code",
   "execution_count": 97,
   "metadata": {
    "scrolled": true
   },
   "outputs": [],
   "source": [
    "#goal to improve simulator!\n",
    "    #create a path rather than a origin only\n",
    "    #what is energy and what do I use it for?\n",
    "    #what do i use time for?\n",
    "    #gaussian distribution of the errors\n",
    "    #histogram of the errors\n",
    "    #principle of occam's razor\n",
    "    #Do morethan a point source\n",
    "    #create a line!\n",
    "from __future__ import absolute_import, division, print_function\n",
    "\n",
    "import os\n",
    "import matplotlib.pyplot as plt\n",
    "import random \n",
    "import tensorflow as tf\n",
    "import numpy as np\n",
    "import math\n",
    "import matplotlib.mlab as mlab\n"
   ]
  },
  {
   "cell_type": "code",
   "execution_count": 98,
   "metadata": {},
   "outputs": [],
   "source": [
    "#find all values greater than a certain value\n",
    "def findGreater(mat,val):\n",
    "    arr = np.array([])\n",
    "    for i in range(mat.shape[0]): #xaxis\n",
    "        for j in range(mat.shape[1]): #yaxix\n",
    "            if(mat[i,j] > val):\n",
    "                arr = np.append(arr,mat[i,j])\n",
    "                \n",
    "    return arr"
   ]
  },
  {
   "cell_type": "code",
   "execution_count": 99,
   "metadata": {},
   "outputs": [],
   "source": [
    "def pointSlopeForm(angle,x,y):\n",
    "    #find the eqn of the line: \n",
    "    slope = math.atan(3.14)\n",
    "    print(slope)\n",
    "    #y = mx + b\n",
    "    intercept = y - (slope * x)\n",
    "    #ax + by + c =0 == y - mx - b = 0\n",
    "    a = -slope\n",
    "    b = 1\n",
    "    c = intercept\n",
    "    return a,b,c"
   ]
  },
  {
   "cell_type": "code",
   "execution_count": 100,
   "metadata": {},
   "outputs": [],
   "source": [
    "def minDistToLine(a,b,c,point_x,point_y):\n",
    "    #distance = |ax0 + by0 + c| / sqrt(a^2 + b^2)\n",
    "    top = abs(a*(point_x) + b*(point_y) + c)\n",
    "    bottom = math.sqrt(pow(a,2)+pow(b,2))\n",
    "    return top/bottom"
   ]
  },
  {
   "cell_type": "code",
   "execution_count": 101,
   "metadata": {},
   "outputs": [],
   "source": [
    "\"\"\"Def Generate neutrino \n",
    "Random origin (x,y)\n",
    "Random direction (dx, dy) or (one angles)\n",
    "Random energy (0 to 1) or (10 to 300 nanoseconds)\n",
    "Random time\n",
    "(make code adjustable)\n",
    "We want to know how fast the neutrino is\"\"\"\n",
    "def generateNeutrino():\n",
    "    x = random.uniform(0,10)\n",
    "    y = random.uniform(0,10)\n",
    "    angle = random.vonmisesvariate(0, 0)\n",
    "    energy = random.random();\n",
    "    time = random.randint(10,300)\n",
    "\n",
    "    return x, y, angle, energy, time"
   ]
  },
  {
   "cell_type": "code",
   "execution_count": 141,
   "metadata": {},
   "outputs": [],
   "source": [
    "def generateSignal(x,y,angle,energy,time):\n",
    "    nodes = 10\n",
    "    x_arr = np.linspace(0,nodes,nodes + 1)\n",
    "    y_arr = np.linspace(0,nodes,nodes + 1)\n",
    "    #10 by 10 grid which is the VICE CUBE\n",
    "    \n",
    "    #using MeshGrid\n",
    "    mesh_x, mesh_y = np.meshgrid(x_arr, y_arr)\n",
    "    \n",
    "    a,b,c = pointSlopeForm(angle,x,y)\n",
    "    #to find the distance from the point to a line I used the line to distance forumula\n",
    "    distance = minDistToLine(a,b,c,mesh_x,mesh_y)\n",
    "    \n",
    "    #energy\n",
    "    mu = energy\n",
    "    variance = energy * 0.5\n",
    "    sigma = math.sqrt(variance)\n",
    "    x = np.linspace(mu - 3*sigma, mu + 3*sigma, 121)\n",
    "    energyDist = mlab.normpdf(x, mu, sigma)\n",
    "    energyDist = np.reshape(energyDist,(11,11))\n",
    "    plt.plot(energyDist)\n",
    "    plt.show()\n",
    "    \n",
    "    #find charge\n",
    "    #charge formula: C = (maxDistance - distance_to_each_node)^2 / maxDistance\n",
    "    maxDistance = math.sqrt((nodes * nodes) + (nodes * nodes))\n",
    "    charge = np.power((maxDistance - distance),2) / pow(maxDistance,2)\n",
    "    #charge = charge * energyDist\n",
    "    \n",
    "    #based on the angle and the origin create a line (data fit) that would simulate a neutrino path\n",
    "    return mesh_x, mesh_y, distance, charge"
   ]
  },
  {
   "cell_type": "code",
   "execution_count": 142,
   "metadata": {
    "scrolled": false
   },
   "outputs": [],
   "source": [
    "def createTrainingVector(dataSize):\n",
    "\n",
    "    xy = np.zeros(2)\n",
    "    trainVec = np.zeros((dataSize,121),dtype = np.float32)\n",
    "    trainLabel = np.zeros((dataSize,2), dtype = np.float32)\n",
    "\n",
    "    for i in range(dataSize):\n",
    "        x_o,y_o,angle,energy,time = generateNeutrino();\n",
    "        mesh_x, mesh_y, distance, charge = generateSignal(x_o,y_o,angle,energy,time)\n",
    "        xy[0] = x_o\n",
    "        xy[1] = y_o\n",
    "        #flattening the charge matrix to a vector\n",
    "        chargeVector = charge.flatten()\n",
    "        trainVec[i,:] = chargeVector\n",
    "        trainLabel[i,:] = xy\n",
    "    \n",
    "    return trainVec, trainLabel"
   ]
  },
  {
   "cell_type": "code",
   "execution_count": 143,
   "metadata": {},
   "outputs": [],
   "source": [
    "def exampleRun():\n",
    "    x,y,angle,energy,time = generateNeutrino();\n",
    "    mesh_x, mesh_y, distance, charge = generateSignal(x,y,angle,energy,time)\n",
    "\n",
    "    \n",
    "    plt.plot(mesh_x,mesh_y, marker='.', color='k', linestyle='none')\n",
    "    plt.title(\"viCE Cube Simulator\")\n",
    "    plt.savefig(\"simulator.png\")\n",
    "\n",
    "    plt.show()\n",
    "    plt.plot(mesh_x,mesh_y, marker='.', color='k', linestyle='none')\n",
    "\n",
    "    plt.title(\"viCE Cube Simulator Run\")\n",
    "\n",
    "    CS = plt.contourf(mesh_x, mesh_y,charge, 15, cmap=plt.cm.rainbow,\n",
    "                  vmax=charge.max(), vmin=0)\n",
    "    plt.colorbar()  \n",
    "    plt.savefig(\"simulator_charge.png\")\n",
    "    plt.show()\n",
    "\n",
    "    print(\"x y angle energy time\")\n",
    "    print(x,y,angle,energy,time)\n",
    "    \n",
    "    #print(\"distance\\n\", distance)\n",
    "    print(\"charge\\n\", charge)"
   ]
  },
  {
   "cell_type": "code",
   "execution_count": 144,
   "metadata": {},
   "outputs": [
    {
     "name": "stdout",
     "output_type": "stream",
     "text": [
      "1.2624806645994682\n"
     ]
    },
    {
     "name": "stderr",
     "output_type": "stream",
     "text": [
      "/Users/mohammfa/anaconda3/lib/python3.6/site-packages/ipykernel_launcher.py:19: MatplotlibDeprecationWarning: scipy.stats.norm.pdf\n"
     ]
    },
    {
     "data": {
      "image/png": "[encoded data removed]",
      "text/plain": [
       "<Figure size 432x288 with 1 Axes>"
      ]
     },
     "metadata": {},
     "output_type": "display_data"
    },
    {
     "data": {
      "image/png": "[encoded data removed]",
      "text/plain": [
       "<Figure size 432x288 with 1 Axes>"
      ]
     },
     "metadata": {},
     "output_type": "display_data"
    },
    {
     "data": {
      "image/png": "[encoded data removed]",
      "text/plain": [
       "<Figure size 432x288 with 2 Axes>"
      ]
     },
     "metadata": {},
     "output_type": "display_data"
    },
    {
     "name": "stdout",
     "output_type": "stream",
     "text": [
      "x y angle energy time\n",
      "5.949119666238751 3.821241245317818 1.4922616790890288 0.8283480040950982 180\n",
      "charge\n",
      " [[0.70227304 0.61244456 0.52876082 0.45122182 0.37982755 0.31457803\n",
      "  0.25547324 0.20251318 0.15569787 0.11502729 0.08050146]\n",
      " [0.77778663 0.68309096 0.59454002 0.51213383 0.43587237 0.36575565\n",
      "  0.30178366 0.24395642 0.19227391 0.14673614 0.10734311]\n",
      " [0.85715548 0.75759262 0.66417449 0.5769011  0.49577244 0.42078853\n",
      "  0.35194935 0.28925491 0.23270521 0.18230025 0.13804002]\n",
      " [0.9403796  0.83594954 0.73766421 0.64552363 0.55952778 0.47967667\n",
      "  0.4059703  0.33840867 0.27699177 0.22171961 0.1725922 ]\n",
      " [0.97291294 0.91816172 0.8150092  0.71800142 0.62713838 0.54242008\n",
      "  0.46384651 0.39141769 0.3251336  0.26499425 0.21099963]\n",
      " [0.88822839 0.99577976 0.89620945 0.79433448 0.69860424 0.60901875\n",
      "  0.52557799 0.44828197 0.37713068 0.31212414 0.25326233]\n",
      " [0.80739911 0.91008329 0.98126496 0.87452279 0.77392537 0.67947268\n",
      "  0.59116472 0.50900151 0.43298303 0.36310929 0.29938029]\n",
      " [0.7304251  0.82824208 0.9322038  0.95856637 0.85310175 0.75378187\n",
      "  0.66060672 0.57357631 0.49269064 0.41794971 0.34935352]\n",
      " [0.65730634 0.75025613 0.84935065 0.95458992 0.9361334  0.83194632\n",
      "  0.73390398 0.64200638 0.55625352 0.47664539 0.403182  ]\n",
      " [0.58804285 0.67612544 0.77035277 0.87072484 0.97724165 0.91396604\n",
      "  0.8110565  0.71429171 0.62367165 0.53919633 0.46086575]\n",
      " [0.52263461 0.60585001 0.69521015 0.79071503 0.89236464 0.99984102\n",
      "  0.89206429 0.7904323  0.69494505 0.60560253 0.52240476]]\n"
     ]
    }
   ],
   "source": [
    "exampleRun()"
   ]
  },
  {
   "cell_type": "code",
   "execution_count": 90,
   "metadata": {},
   "outputs": [],
   "source": [
    "def inputFunction(dataSize):\n",
    "    trainVec, trainLabel = createTrainingVector(dataSize)    \n",
    "    features = {'x' : trainVec}\n",
    "    #trainLabel is the output. which currently is the origin\n",
    "    labels = trainLabel\n",
    "    #labels = np.int(labels)\n",
    "    \n",
    "    \n",
    "    return features, labels\n"
   ]
  },
  {
   "cell_type": "code",
   "execution_count": 43,
   "metadata": {},
   "outputs": [],
   "source": [
    "#returns MSE\n",
    "def evaluateModel(DNNRegressor, inputFn):\n",
    "    #evaluating accuracy\n",
    "    evalReg = DNNRegressor.evaluate(input_fn = inputFn)\n",
    "    print(\"\\n\\nTest Accuracy=\",evalReg)\n",
    "\n",
    "    # The evaluation returns a Python dictionary. The \"average_loss\" key holds the\n",
    "    # Mean Squared Error (MSE).    \n",
    "    return evalReg[\"average_loss\"]"
   ]
  },
  {
   "cell_type": "code",
   "execution_count": 44,
   "metadata": {},
   "outputs": [],
   "source": [
    "#function returns predictions\n",
    "def predict(DNNRegressor, predictFeatures,predictLabels):\n",
    "    predict_input_fn = tf.estimator.inputs.numpy_input_fn(\n",
    "            x=predictFeatures,\n",
    "            num_epochs=1,\n",
    "            shuffle=False)\n",
    "    \n",
    "    predictions = list(DNNRegressor.predict(input_fn=predict_input_fn))\n",
    "    predicted_classes = [p[\"predictions\"] for p in predictions]\n",
    "    predicted_classes = np.array(predicted_classes)\n",
    "\n",
    "    print(\"Predictions\\n\", predicted_classes)\n",
    "    \n",
    "    print(\"Labels\\n\", predictLabels)\n",
    "    \n",
    "    #converting to Tensor, not necessary but was going to use it for a function that required tensors.\n",
    "    \"\"\"\n",
    "    lab = tf.convert_to_tensor(\n",
    "        new_samples_labels,\n",
    "        dtype=None,\n",
    "        name=None,\n",
    "        preferred_dtype=None)\n",
    "    #\n",
    "\n",
    "    pred = tf.convert_to_tensor(\n",
    "        predicted_classes,\n",
    "        dtype=None,\n",
    "        name=None,\n",
    "        preferred_dtype=None)\n",
    "    print(type(lab))\n",
    "    print(type(lab.dtype))\n",
    "    print(type(pred))\n",
    "    print(type(pred.dtype))\n",
    "    \"\"\"\n",
    "    return predicted_classes"
   ]
  },
  {
   "cell_type": "code",
   "execution_count": 45,
   "metadata": {},
   "outputs": [
    {
     "name": "stdout",
     "output_type": "stream",
     "text": [
      "float32\n",
      "float32\n",
      "(450, 121)\n",
      "(450, 2)\n",
      "feature_columns= []\n",
      "INFO:tensorflow:Using default config.\n",
      "INFO:tensorflow:Using config: {'_model_dir': '/tmp/cube_model', '_tf_random_seed': None, '_save_summary_steps': 100, '_save_checkpoints_steps': None, '_save_checkpoints_secs': 600, '_session_config': None, '_keep_checkpoint_max': 5, '_keep_checkpoint_every_n_hours': 10000, '_log_step_count_steps': 100, '_train_distribute': None, '_service': None, '_cluster_spec': <tensorflow.python.training.server_lib.ClusterSpec object at 0xb2c3dc2e8>, '_task_type': 'worker', '_task_id': 0, '_global_id_in_cluster': 0, '_master': '', '_evaluation_master': '', '_is_chief': True, '_num_ps_replicas': 0, '_num_worker_replicas': 1}\n"
     ]
    }
   ],
   "source": [
    "trainSize = 450\n",
    "testSize = 4000\n",
    "\n",
    "trainFeatures, trainLabels = inputFunction(trainSize)\n",
    "testFeatures, testLabels = inputFunction(testSize)\n",
    "\n",
    "print((trainFeatures['x'].dtype))\n",
    "print(trainLabels.dtype)\n",
    "print(trainFeatures['x'].shape)\n",
    "print(trainLabels.shape)\n",
    "\n",
    "#train input fn\n",
    "train_input_fn = tf.estimator.inputs.numpy_input_fn(x=(trainFeatures),\n",
    "                                                    y=(trainLabels),\n",
    "                                                    num_epochs=None,\n",
    "                                                    shuffle=True)\n",
    "#train input fn\n",
    "train_input_fn_test = tf.estimator.inputs.numpy_input_fn(x=(trainFeatures),\n",
    "                                                    y=(trainLabels),\n",
    "                                                    num_epochs=1,\n",
    "                                                    shuffle=False)\n",
    "\n",
    "\n",
    "#test input fn\n",
    "test_input_fn = tf.estimator.inputs.numpy_input_fn(x=(testFeatures),\n",
    "                                                   y=(testLabels),\n",
    "                                                   num_epochs=1,\n",
    "                                                   shuffle=False)\n",
    "#defining feature columns\n",
    "my_feature_columns = []\n",
    "print(\"feature_columns=\",my_feature_columns)\n",
    "\n",
    "# Specify that all features have real-value data\n",
    "my_feature_columns = [tf.feature_column.numeric_column(\"x\", shape=[121])]\n",
    "\n",
    "\n",
    "# Build 3 layer DNN Regressor with 10, 20, 10 units respectively. With 2D labels (x,y)\n",
    "regressor = tf.estimator.DNNRegressor(feature_columns=my_feature_columns,\n",
    "                                      label_dimension = 2,\n",
    "                                      hidden_units= [10,20,10], model_dir=\"/tmp/cube_model\")"
   ]
  },
  {
   "cell_type": "code",
   "execution_count": 46,
   "metadata": {},
   "outputs": [
    {
     "name": "stdout",
     "output_type": "stream",
     "text": [
      "INFO:tensorflow:Calling model_fn.\n",
      "INFO:tensorflow:Done calling model_fn.\n",
      "INFO:tensorflow:Create CheckpointSaverHook.\n",
      "INFO:tensorflow:Graph was finalized.\n",
      "INFO:tensorflow:Restoring parameters from /tmp/cube_model/model.ckpt-4000\n",
      "INFO:tensorflow:Running local_init_op.\n",
      "INFO:tensorflow:Done running local_init_op.\n",
      "INFO:tensorflow:Saving checkpoints for 4001 into /tmp/cube_model/model.ckpt.\n",
      "INFO:tensorflow:loss = 8574.085, step = 4001\n",
      "INFO:tensorflow:global_step/sec: 599.703\n",
      "INFO:tensorflow:loss = 1662.7942, step = 4101 (0.167 sec)\n",
      "INFO:tensorflow:global_step/sec: 874.861\n",
      "INFO:tensorflow:loss = 1706.0283, step = 4201 (0.115 sec)\n",
      "INFO:tensorflow:global_step/sec: 908.966\n",
      "INFO:tensorflow:loss = 1465.9963, step = 4301 (0.110 sec)\n",
      "INFO:tensorflow:global_step/sec: 888.424\n",
      "INFO:tensorflow:loss = 1487.7339, step = 4401 (0.113 sec)\n",
      "INFO:tensorflow:global_step/sec: 888.328\n",
      "INFO:tensorflow:loss = 1526.0671, step = 4501 (0.112 sec)\n",
      "INFO:tensorflow:global_step/sec: 868.929\n",
      "INFO:tensorflow:loss = 1387.2261, step = 4601 (0.115 sec)\n",
      "INFO:tensorflow:global_step/sec: 908.094\n",
      "INFO:tensorflow:loss = 1514.5822, step = 4701 (0.110 sec)\n",
      "INFO:tensorflow:global_step/sec: 873.515\n",
      "INFO:tensorflow:loss = 1297.2388, step = 4801 (0.114 sec)\n",
      "INFO:tensorflow:global_step/sec: 915.635\n",
      "INFO:tensorflow:loss = 1317.0219, step = 4901 (0.109 sec)\n",
      "INFO:tensorflow:global_step/sec: 918.086\n",
      "INFO:tensorflow:loss = 1239.4847, step = 5001 (0.109 sec)\n",
      "INFO:tensorflow:global_step/sec: 915.995\n",
      "INFO:tensorflow:loss = 1314.9227, step = 5101 (0.109 sec)\n",
      "INFO:tensorflow:global_step/sec: 944.474\n",
      "INFO:tensorflow:loss = 1301.5426, step = 5201 (0.106 sec)\n",
      "INFO:tensorflow:global_step/sec: 880.599\n",
      "INFO:tensorflow:loss = 1357.0802, step = 5301 (0.114 sec)\n",
      "INFO:tensorflow:global_step/sec: 722.785\n",
      "INFO:tensorflow:loss = 1367.8876, step = 5401 (0.139 sec)\n",
      "INFO:tensorflow:global_step/sec: 746.79\n",
      "INFO:tensorflow:loss = 1323.2793, step = 5501 (0.135 sec)\n",
      "INFO:tensorflow:global_step/sec: 857.775\n",
      "INFO:tensorflow:loss = 1360.1663, step = 5601 (0.115 sec)\n",
      "INFO:tensorflow:global_step/sec: 858.215\n",
      "INFO:tensorflow:loss = 1092.0553, step = 5701 (0.117 sec)\n",
      "INFO:tensorflow:global_step/sec: 746.267\n",
      "INFO:tensorflow:loss = 1295.5952, step = 5801 (0.133 sec)\n",
      "INFO:tensorflow:global_step/sec: 692.55\n",
      "INFO:tensorflow:loss = 1324.9946, step = 5901 (0.145 sec)\n",
      "INFO:tensorflow:Saving checkpoints for 6000 into /tmp/cube_model/model.ckpt.\n",
      "INFO:tensorflow:Loss for final step: 1107.2253.\n"
     ]
    },
    {
     "data": {
      "text/plain": [
       "<tensorflow.python.estimator.canned.dnn.DNNRegressor at 0xb2c3dc240>"
      ]
     },
     "execution_count": 46,
     "metadata": {},
     "output_type": "execute_result"
    }
   ],
   "source": [
    "#Training regressor\n",
    "regressor.train(input_fn=train_input_fn, steps=2000)"
   ]
  },
  {
   "cell_type": "code",
   "execution_count": 47,
   "metadata": {},
   "outputs": [
    {
     "name": "stdout",
     "output_type": "stream",
     "text": [
      "INFO:tensorflow:Calling model_fn.\n",
      "INFO:tensorflow:Done calling model_fn.\n",
      "INFO:tensorflow:Starting evaluation at 2018-07-17-17:12:44\n",
      "INFO:tensorflow:Graph was finalized.\n",
      "INFO:tensorflow:Restoring parameters from /tmp/cube_model/model.ckpt-6000\n",
      "INFO:tensorflow:Running local_init_op.\n",
      "INFO:tensorflow:Done running local_init_op.\n",
      "INFO:tensorflow:Finished evaluation at 2018-07-17-17:12:45\n",
      "INFO:tensorflow:Saving dict for global step 6000: average_loss = 4.7979026, global_step = 6000, loss = 1079.5281\n",
      "\n",
      "\n",
      "Test Accuracy= {'average_loss': 4.7979026, 'loss': 1079.5281, 'global_step': 6000}\n"
     ]
    }
   ],
   "source": [
    "#Evalutating regressor\n",
    "train_accuracy = evaluateModel(regressor, train_input_fn_test)\n"
   ]
  },
  {
   "cell_type": "code",
   "execution_count": 48,
   "metadata": {},
   "outputs": [
    {
     "name": "stdout",
     "output_type": "stream",
     "text": [
      "INFO:tensorflow:Calling model_fn.\n",
      "INFO:tensorflow:Done calling model_fn.\n",
      "INFO:tensorflow:Starting evaluation at 2018-07-17-17:12:47\n",
      "INFO:tensorflow:Graph was finalized.\n",
      "INFO:tensorflow:Restoring parameters from /tmp/cube_model/model.ckpt-6000\n",
      "INFO:tensorflow:Running local_init_op.\n",
      "INFO:tensorflow:Done running local_init_op.\n",
      "INFO:tensorflow:Finished evaluation at 2018-07-17-17:12:47\n",
      "INFO:tensorflow:Saving dict for global step 6000: average_loss = 4.8209033, global_step = 6000, loss = 1205.2258\n",
      "\n",
      "\n",
      "Test Accuracy= {'average_loss': 4.8209033, 'loss': 1205.2258, 'global_step': 6000}\n"
     ]
    }
   ],
   "source": [
    "#Evalutating regressor\n",
    "accuracy = evaluateModel(regressor, test_input_fn)"
   ]
  },
  {
   "cell_type": "code",
   "execution_count": 49,
   "metadata": {},
   "outputs": [
    {
     "name": "stdout",
     "output_type": "stream",
     "text": [
      "INFO:tensorflow:Calling model_fn.\n",
      "INFO:tensorflow:Done calling model_fn.\n",
      "INFO:tensorflow:Graph was finalized.\n",
      "INFO:tensorflow:Restoring parameters from /tmp/cube_model/model.ckpt-6000\n",
      "INFO:tensorflow:Running local_init_op.\n",
      "INFO:tensorflow:Done running local_init_op.\n",
      "Predictions\n",
      " [[5.7571816 3.9237518]\n",
      " [4.6660247 4.9774203]\n",
      " [6.4789667 3.5825396]\n",
      " [5.975449  3.2799237]\n",
      " [5.4904275 3.6250741]\n",
      " [2.2530947 7.16452  ]\n",
      " [2.5884452 7.252357 ]\n",
      " [5.264269  4.1699142]]\n",
      "Labels\n",
      " [[6.6955957 4.998465 ]\n",
      " [2.3830245 2.177048 ]\n",
      " [6.6927314 3.91113  ]\n",
      " [2.926431  0.845707 ]\n",
      " [5.4045353 5.0924354]\n",
      " [3.1501951 8.53858  ]\n",
      " [1.3947186 5.6797504]\n",
      " [8.098223  8.467747 ]]\n"
     ]
    }
   ],
   "source": [
    "#predicting model\n",
    "predictSize = 8\n",
    "predictFeatures,predictLabels = inputFunction(predictSize)\n",
    "predictions = predict(regressor, predictFeatures,predictLabels)"
   ]
  },
  {
   "cell_type": "code",
   "execution_count": null,
   "metadata": {},
   "outputs": [],
   "source": []
  },
  {
   "cell_type": "code",
   "execution_count": null,
   "metadata": {},
   "outputs": [],
   "source": []
  },
  {
   "cell_type": "code",
   "execution_count": null,
   "metadata": {},
   "outputs": [],
   "source": []
  },
  {
   "cell_type": "code",
   "execution_count": null,
   "metadata": {},
   "outputs": [],
   "source": []
  }
 ],
 "metadata": {
  "kernelspec": {
   "display_name": "Python 3",
   "language": "python",
   "name": "python3"
  },
  "language_info": {
   "codemirror_mode": {
    "name": "ipython",
    "version": 3
   },
   "file_extension": ".py",
   "mimetype": "text/x-python",
   "name": "python",
   "nbconvert_exporter": "python",
   "pygments_lexer": "ipython3",
   "version": "3.6.5"
  }
 },
 "nbformat": 4,
 "nbformat_minor": 2
}
