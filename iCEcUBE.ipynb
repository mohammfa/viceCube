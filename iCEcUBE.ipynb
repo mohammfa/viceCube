{
 "cells": [
  {
   "cell_type": "code",
   "execution_count": 1,
   "metadata": {},
   "outputs": [
    {
     "name": "stderr",
     "output_type": "stream",
     "text": [
      "/Users/mohammfa/anaconda3/lib/python3.6/site-packages/h5py/__init__.py:36: FutureWarning: Conversion of the second argument of issubdtype from `float` to `np.floating` is deprecated. In future, it will be treated as `np.float64 == np.dtype(float).type`.\n",
      "  from ._conv import register_converters as _register_converters\n"
     ]
    }
   ],
   "source": [
    "from __future__ import absolute_import, division, print_function\n",
    "\n",
    "import os\n",
    "import matplotlib.pyplot as plt\n",
    "import random \n",
    "import tensorflow as tf\n",
    "import numpy as np\n",
    "import math"
   ]
  },
  {
   "cell_type": "code",
   "execution_count": 2,
   "metadata": {},
   "outputs": [],
   "source": [
    "\"\"\"\"Def Generate neutrino \n",
    "Random origin (x,y)\n",
    "Random direction (dx, dy) or (one angles)\n",
    "Random energy (0 to 1) or (10 to 300 nanoseconds)\n",
    "Random time\n",
    "(make code adjustable)\n",
    "We want to know how fast the neutrino is\"\"\"\n",
    "def generateNeutrino():\n",
    "    x = random.uniform(0,10)\n",
    "    y = 10;\n",
    "    angle = random.vonmisesvariate(0, 0)\n",
    "    energy = random.random();\n",
    "    time = random.randint(10,300)\n",
    "    x = round(x,3)\n",
    "    y = round(y,3)\n",
    "    angle = round(angle,3)\n",
    "    energy = round(energy,3)\n",
    "    time = round(time,3)\n",
    "\n",
    "\n",
    "    return x, y, angle, energy, time\n",
    "    "
   ]
  },
  {
   "cell_type": "code",
   "execution_count": 13,
   "metadata": {},
   "outputs": [],
   "source": [
    "def generateSignal(x,y,angle,energy,time):\n",
    "    nodes = 10\n",
    "    x_arr = np.linspace(0,nodes,nodes + 1)\n",
    "    y_arr = np.linspace(0,nodes,nodes + 1)\n",
    "    #10 by 10 grid which is the VICE CUBE\n",
    "    \n",
    "    #using MeshGrid\n",
    "    mesh_x, mesh_y = np.meshgrid(x_arr, y_arr)\n",
    "    mesh_x = np.round(mesh_x,3)\n",
    "    mesh_y = np.round(mesh_y,3)\n",
    "\n",
    "    #find distance of each sensor to the origion using euclidean distance formula\n",
    "    x_sq = mesh_x - x\n",
    "    y_sq = mesh_y - y\n",
    "    x_sq = np.power(x_sq,2)\n",
    "    y_sq = np.power(y_sq,2)\n",
    "    distance = np.sqrt(x_sq + y_sq)\n",
    "    distance = np.round(distance,1)\n",
    "    \n",
    "    #find charge\n",
    "    #charge formula: C = (maxDistance - distance_to_each_node)^2 / maxDistance\n",
    "    maxDistance = math.sqrt((nodes * nodes) + (nodes * nodes))\n",
    "    charge = np.power((maxDistance - distance),2) / maxDistance\n",
    "    charge = np.round(charge,1);\n",
    "    \n",
    "    \n",
    "    #based on the angle and the origin create a line (data fit) that would simulate a neutrino path\n",
    "    return mesh_x, mesh_y, distance, charge"
   ]
  },
  {
   "cell_type": "code",
   "execution_count": 14,
   "metadata": {},
   "outputs": [
    {
     "name": "stdout",
     "output_type": "stream",
     "text": [
      "x\n",
      " [[ 0.  1.  2.  3.  4.  5.  6.  7.  8.  9. 10.]\n",
      " [ 0.  1.  2.  3.  4.  5.  6.  7.  8.  9. 10.]\n",
      " [ 0.  1.  2.  3.  4.  5.  6.  7.  8.  9. 10.]\n",
      " [ 0.  1.  2.  3.  4.  5.  6.  7.  8.  9. 10.]\n",
      " [ 0.  1.  2.  3.  4.  5.  6.  7.  8.  9. 10.]\n",
      " [ 0.  1.  2.  3.  4.  5.  6.  7.  8.  9. 10.]\n",
      " [ 0.  1.  2.  3.  4.  5.  6.  7.  8.  9. 10.]\n",
      " [ 0.  1.  2.  3.  4.  5.  6.  7.  8.  9. 10.]\n",
      " [ 0.  1.  2.  3.  4.  5.  6.  7.  8.  9. 10.]\n",
      " [ 0.  1.  2.  3.  4.  5.  6.  7.  8.  9. 10.]\n",
      " [ 0.  1.  2.  3.  4.  5.  6.  7.  8.  9. 10.]]\n",
      "y\n",
      " [[ 0.  0.  0.  0.  0.  0.  0.  0.  0.  0.  0.]\n",
      " [ 1.  1.  1.  1.  1.  1.  1.  1.  1.  1.  1.]\n",
      " [ 2.  2.  2.  2.  2.  2.  2.  2.  2.  2.  2.]\n",
      " [ 3.  3.  3.  3.  3.  3.  3.  3.  3.  3.  3.]\n",
      " [ 4.  4.  4.  4.  4.  4.  4.  4.  4.  4.  4.]\n",
      " [ 5.  5.  5.  5.  5.  5.  5.  5.  5.  5.  5.]\n",
      " [ 6.  6.  6.  6.  6.  6.  6.  6.  6.  6.  6.]\n",
      " [ 7.  7.  7.  7.  7.  7.  7.  7.  7.  7.  7.]\n",
      " [ 8.  8.  8.  8.  8.  8.  8.  8.  8.  8.  8.]\n",
      " [ 9.  9.  9.  9.  9.  9.  9.  9.  9.  9.  9.]\n",
      " [10. 10. 10. 10. 10. 10. 10. 10. 10. 10. 10.]]\n"
     ]
    },
    {
     "data": {
      "image/png": "[encoded data removed]",
      "text/plain": [
       "<Figure size 432x288 with 2 Axes>"
      ]
     },
     "metadata": {},
     "output_type": "display_data"
    },
    {
     "name": "stdout",
     "output_type": "stream",
     "text": [
      "x y angle energy time\n",
      "1.404 10 2.975 0.126 69\n",
      "distance\n",
      " [[10.1 10.  10.  10.1 10.3 10.6 11.  11.5 12.  12.6 13.2]\n",
      " [ 9.1  9.   9.   9.1  9.4  9.7 10.1 10.6 11.2 11.8 12.4]\n",
      " [ 8.1  8.   8.   8.2  8.4  8.8  9.2  9.8 10.4 11.  11.7]\n",
      " [ 7.1  7.   7.   7.2  7.5  7.9  8.4  9.   9.6 10.3 11.1]\n",
      " [ 6.2  6.   6.   6.2  6.5  7.   7.6  8.2  8.9  9.7 10.5]\n",
      " [ 5.2  5.   5.   5.2  5.6  6.2  6.8  7.5  8.3  9.1  9.9]\n",
      " [ 4.2  4.   4.   4.3  4.8  5.4  6.1  6.9  7.7  8.6  9.5]\n",
      " [ 3.3  3.   3.1  3.4  4.   4.7  5.5  6.3  7.2  8.2  9.1]\n",
      " [ 2.4  2.   2.1  2.6  3.3  4.1  5.   5.9  6.9  7.9  8.8]\n",
      " [ 1.7  1.1  1.2  1.9  2.8  3.7  4.7  5.7  6.7  7.7  8.7]\n",
      " [ 1.4  0.4  0.6  1.6  2.6  3.6  4.6  5.6  6.6  7.6  8.6]]\n",
      "charge\n",
      " [[ 1.2  1.2  1.2  1.2  1.   0.9  0.7  0.5  0.3  0.2  0.1]\n",
      " [ 1.8  1.9  1.9  1.8  1.6  1.4  1.2  0.9  0.6  0.4  0.2]\n",
      " [ 2.6  2.7  2.7  2.5  2.3  2.   1.7  1.3  1.   0.7  0.4]\n",
      " [ 3.5  3.6  3.6  3.4  3.1  2.8  2.3  1.9  1.5  1.   0.7]\n",
      " [ 4.5  4.7  4.7  4.5  4.1  3.6  3.   2.5  1.9  1.4  0.9]\n",
      " [ 5.7  5.9  5.9  5.7  5.2  4.5  3.8  3.1  2.4  1.8  1.3]\n",
      " [ 7.   7.3  7.3  6.8  6.2  5.4  4.6  3.7  2.9  2.2  1.5]\n",
      " [ 8.3  8.8  8.6  8.2  7.3  6.3  5.3  4.3  3.4  2.5  1.8]\n",
      " [ 9.7 10.4 10.3  9.4  8.3  7.1  5.9  4.8  3.7  2.8  2. ]\n",
      " [10.9 12.  11.8 10.6  9.1  7.7  6.3  5.   3.9  2.9  2.1]\n",
      " [11.5 13.4 13.  11.1  9.4  7.9  6.4  5.2  4.   3.   2.2]]\n"
     ]
    }
   ],
   "source": [
    "if __name__== \"__main__\":\n",
    "    x,y,angle,energy,time = generateNeutrino();\n",
    "    mesh_x, mesh_y, distance, charge = generateSignal(x,y,angle,energy,time)\n",
    "    print(\"x\\n\", mesh_x)\n",
    "    print(\"y\\n\", mesh_y)\n",
    "\n",
    "    plt.plot(mesh_x,mesh_y, marker='.', color='k', linestyle='none')\n",
    "    \n",
    "    \n",
    "    CS = plt.contourf(mesh_x, mesh_y,charge, 15, cmap=plt.cm.rainbow,\n",
    "                  vmax=charge.max(), vmin=0)\n",
    "    plt.colorbar()  \n",
    "    plt.show()\n",
    "\n",
    "    print(\"x y angle energy time\")\n",
    "    print(x,y,angle,energy,time)\n",
    "    \n",
    "    print(\"distance\\n\", distance)\n",
    "    print(\"charge\\n\", charge)\n",
    "\n"
   ]
  },
  {
   "cell_type": "code",
   "execution_count": null,
   "metadata": {},
   "outputs": [],
   "source": []
  },
  {
   "cell_type": "code",
   "execution_count": null,
   "metadata": {},
   "outputs": [],
   "source": []
  },
  {
   "cell_type": "code",
   "execution_count": null,
   "metadata": {},
   "outputs": [],
   "source": []
  }
 ],
 "metadata": {
  "kernelspec": {
   "display_name": "Python 3",
   "language": "python",
   "name": "python3"
  },
  "language_info": {
   "codemirror_mode": {
    "name": "ipython",
    "version": 3
   },
   "file_extension": ".py",
   "mimetype": "text/x-python",
   "name": "python",
   "nbconvert_exporter": "python",
   "pygments_lexer": "ipython3",
   "version": "3.6.5"
  }
 },
 "nbformat": 4,
 "nbformat_minor": 2
}
